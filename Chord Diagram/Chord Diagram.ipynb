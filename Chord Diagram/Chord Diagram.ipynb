{
 "cells": [
  {
   "cell_type": "code",
   "execution_count": 2,
   "metadata": {},
   "outputs": [
    {
     "name": "stdout",
     "output_type": "stream",
     "text": [
      "Collecting chord\n",
      "  Downloading chord-0.1.0-py3-none-any.whl (17 kB)\n",
      "Collecting mako\n",
      "  Downloading Mako-1.1.3-py2.py3-none-any.whl (75 kB)\n",
      "Collecting uuid\n",
      "  Downloading uuid-1.30.tar.gz (5.8 kB)\n",
      "Requirement already satisfied: MarkupSafe>=0.9.2 in c:\\users\\dell\\anaconda3\\lib\\site-packages (from mako->chord) (1.1.1)\n",
      "Building wheels for collected packages: uuid\n",
      "  Building wheel for uuid (setup.py): started\n",
      "  Building wheel for uuid (setup.py): finished with status 'done'\n",
      "  Created wheel for uuid: filename=uuid-1.30-py3-none-any.whl size=6507 sha256=1d4f9fb6dc9893b5c48bac4939adbd8744467b201113f242d2fe32a6acaf1544\n",
      "  Stored in directory: c:\\users\\dell\\appdata\\local\\pip\\cache\\wheels\\2a\\ea\\87\\dd57f1ecb4f0752f3e1dbf958ebf8b36d920d190425bcdc24d\n",
      "Successfully built uuid\n",
      "Installing collected packages: mako, uuid, chord\n",
      "Successfully installed chord-0.1.0 mako-1.1.3 uuid-1.30\n"
     ]
    }
   ],
   "source": [
    "!pip install chord"
   ]
  },
  {
   "cell_type": "code",
   "execution_count": 24,
   "metadata": {},
   "outputs": [],
   "source": [
    "# importing Pandas libary\n",
    "import pandas as pd\n",
    "# reading data from csv\n",
    "column_names = ['CRIM', 'ZN', 'INDUS', 'CHAS', 'NOX', 'RM', 'AGE', 'DIS', 'RAD', 'TAX', 'PTRATIO', 'B', 'LSTAT', 'MEDV']\n",
    "df = pd.read_csv('housing.csv', header=None, delimiter=r\"\\s+\", names=column_names)"
   ]
  },
  {
   "cell_type": "code",
   "execution_count": 25,
   "metadata": {},
   "outputs": [],
   "source": [
    "df.to_csv('housing_col.csv', index= False)"
   ]
  },
  {
   "cell_type": "code",
   "execution_count": 12,
   "metadata": {},
   "outputs": [
    {
     "name": "stdout",
     "output_type": "stream",
     "text": [
      "<class 'pandas.core.frame.DataFrame'>\n",
      "RangeIndex: 506 entries, 0 to 505\n",
      "Data columns (total 14 columns):\n",
      " #   Column   Non-Null Count  Dtype  \n",
      "---  ------   --------------  -----  \n",
      " 0   CRIM     506 non-null    float64\n",
      " 1   ZN       506 non-null    float64\n",
      " 2   INDUS    506 non-null    float64\n",
      " 3   CHAS     506 non-null    int64  \n",
      " 4   NOX      506 non-null    float64\n",
      " 5   RM       506 non-null    float64\n",
      " 6   AGE      506 non-null    float64\n",
      " 7   DIS      506 non-null    float64\n",
      " 8   RAD      506 non-null    int64  \n",
      " 9   TAX      506 non-null    float64\n",
      " 10  PTRATIO  506 non-null    float64\n",
      " 11  B        506 non-null    float64\n",
      " 12  LSTAT    506 non-null    float64\n",
      " 13  MEDV     506 non-null    float64\n",
      "dtypes: float64(12), int64(2)\n",
      "memory usage: 55.5 KB\n"
     ]
    }
   ],
   "source": [
    "df.info()"
   ]
  },
  {
   "cell_type": "code",
   "execution_count": 13,
   "metadata": {},
   "outputs": [],
   "source": [
    "# List of columns to delete and then dropping them.\n",
    "delete = ['ZN', 'INDUS', 'CHAS', 'DIS','RAD','PTRATIO','B','LSTAT']\n",
    "df.drop(delete, axis=1, inplace=True)"
   ]
  },
  {
   "cell_type": "code",
   "execution_count": 14,
   "metadata": {},
   "outputs": [],
   "source": [
    "# Now, matrix contains a 6x6 matrix of the values.\n",
    "matrix = df.corr()\n",
    "# Replacing negative values with 0’s, as features can be negatively correlated.\n",
    "matrix[matrix < 0] = 0\n",
    "# Multiplying all values by 100 for clarity, since correlation values lie b/w 0 and 1.\n",
    "matrix = matrix.multiply(100).astype(int)\n",
    "# Converting the DataFrame to a 2D List, as it is the required input format.\n",
    "matrix = matrix.values.tolist()"
   ]
  },
  {
   "cell_type": "code",
   "execution_count": 15,
   "metadata": {},
   "outputs": [],
   "source": [
    "# Names of the features.\n",
    "names = [\"Crime Rate\",\"N-Oxide\",\"Number of rooms\",\"Older buildings\",\"Property Tax\",\"Median Price\"]"
   ]
  },
  {
   "cell_type": "code",
   "execution_count": 16,
   "metadata": {},
   "outputs": [],
   "source": [
    "from chord import Chord"
   ]
  },
  {
   "cell_type": "code",
   "execution_count": 19,
   "metadata": {},
   "outputs": [],
   "source": [
    "#plot = Chord(matrix, names)\n",
    "#Note: The show() function works only with Jupyter Labs.\n",
    "# (Not Jupyter notebook)"
   ]
  },
  {
   "cell_type": "code",
   "execution_count": 22,
   "metadata": {},
   "outputs": [],
   "source": [
    "Chord(matrix, names).to_html()"
   ]
  },
  {
   "cell_type": "markdown",
   "metadata": {},
   "source": [
    "## Customize"
   ]
  },
  {
   "cell_type": "code",
   "execution_count": 28,
   "metadata": {},
   "outputs": [],
   "source": [
    "# Just add the colors parameter and pass the value.\n",
    "Chord(matrix, names, colors=\"d3.schemeDark2\").to_html()"
   ]
  },
  {
   "cell_type": "code",
   "execution_count": 29,
   "metadata": {},
   "outputs": [],
   "source": [
    "# Just add the colors parameter and pass the value.\n",
    "Chord(matrix, names, colors=\"d3.schemeAccent\").to_html()"
   ]
  },
  {
   "cell_type": "code",
   "execution_count": 30,
   "metadata": {},
   "outputs": [],
   "source": [
    "# Add all the colors to a list.\n",
    "coloursList = [\"#f50057\", \"#2196f3\", \"#00e676\", \"#ff5722\", \"#00000\", \"#ff9100\"]\n",
    "# Pass the list to the colors parameter.\n",
    "Chord(matrix, names, colors=coloursList).to_html()"
   ]
  },
  {
   "cell_type": "markdown",
   "metadata": {},
   "source": [
    "Additional resources:\n",
    "[1] Official Guide — Shahin Rostami’s blog(Author of the library)\n",
    "https://shahinrostami.com/posts/statistics/data-is-beautiful/chord-diagrams/\n",
    "[2] chord on PyPi — You can download the package here.\n",
    "https://pypi.org/project/chord/"
   ]
  }
 ],
 "metadata": {
  "kernelspec": {
   "display_name": "Python 3",
   "language": "python",
   "name": "python3"
  },
  "language_info": {
   "codemirror_mode": {
    "name": "ipython",
    "version": 3
   },
   "file_extension": ".py",
   "mimetype": "text/x-python",
   "name": "python",
   "nbconvert_exporter": "python",
   "pygments_lexer": "ipython3",
   "version": "3.7.6"
  }
 },
 "nbformat": 4,
 "nbformat_minor": 4
}
